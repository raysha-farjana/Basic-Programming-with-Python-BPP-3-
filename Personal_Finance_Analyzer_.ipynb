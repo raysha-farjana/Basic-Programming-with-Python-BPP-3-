{
  "nbformat": 4,
  "nbformat_minor": 0,
  "metadata": {
    "colab": {
      "provenance": [],
      "authorship_tag": "ABX9TyNJHHc6i7EvqqbWFZNXnZm7",
      "include_colab_link": true
    },
    "kernelspec": {
      "name": "python3",
      "display_name": "Python 3"
    },
    "language_info": {
      "name": "python"
    }
  },
  "cells": [
    {
      "cell_type": "markdown",
      "metadata": {
        "id": "view-in-github",
        "colab_type": "text"
      },
      "source": [
        "<a href=\"https://colab.research.google.com/github/raysha-farjana/Basic-Programming-with-Python-BPP-3-/blob/main/Personal_Finance_Analyzer_.ipynb\" target=\"_parent\"><img src=\"https://colab.research.google.com/assets/colab-badge.svg\" alt=\"Open In Colab\"/></a>"
      ]
    },
    {
      "cell_type": "code",
      "execution_count": 4,
      "metadata": {
        "colab": {
          "base_uri": "https://localhost:8080/"
        },
        "id": "5NxRkOtUYP_q",
        "outputId": "f1a9fa9b-38ee-416a-c204-c7caab17e95e"
      },
      "outputs": [
        {
          "output_type": "stream",
          "name": "stdout",
          "text": [
            "Income Data: [{'Date': '2025-01-20', 'Source': 'Salary', 'Amount': 2500.0}, {'Date': '2025-01-22', 'Source': 'Freelancing', 'Amount': 800.0}, {'Date': '2025-01-23', 'Source': 'Investments', 'Amount': 500.0}]\n",
            "Expense Data: [{'Date': '2025-01-24', 'Category': 'Food', 'Amount': 200.0}, {'Date': '2025-01-25', 'Category': 'Transport', 'Amount': 50.0}, {'Date': '2025-01-26', 'Category': 'Utilities', 'Amount': 100.0}, {'Date': '2025-01-27', 'Category': 'Entertainment', 'Amount': 75.0}]\n"
          ]
        }
      ],
      "source": [
        "import csv\n",
        "\n",
        "# Path to the uploaded file\n",
        "file_path = '/content/finance_data(1).csv'\n",
        "\n",
        "# Initialize a list to hold the data\n",
        "finance_data = {\"income\": [], \"expense\": []}\n",
        "\n",
        "# Open and read the CSV file\n",
        "with open(file_path, mode='r') as file:\n",
        "    reader = csv.DictReader(file)\n",
        "\n",
        "    # Process each row in the CSV file\n",
        "    for row in reader:\n",
        "        entry_type = row[\"Type\"].lower()\n",
        "\n",
        "        # Check if the entry is income or expense and store it accordingly\n",
        "        if entry_type == \"income\":\n",
        "            finance_data[\"income\"].append({\n",
        "                \"Date\": row[\"Date\"],\n",
        "                \"Source\": row[\"Source/Category\"],\n",
        "                \"Amount\": float(row[\"Amount\"])\n",
        "            })\n",
        "        elif entry_type == \"expense\":\n",
        "            finance_data[\"expense\"].append({\n",
        "                \"Date\": row[\"Date\"],\n",
        "                \"Category\": row[\"Source/Category\"],\n",
        "                \"Amount\": float(row[\"Amount\"])\n",
        "            })\n",
        "\n",
        "# Display the imported data\n",
        "print(\"Income Data:\", finance_data[\"income\"])\n",
        "print(\"Expense Data:\", finance_data[\"expense\"])"
      ]
    },
    {
      "cell_type": "code",
      "source": [
        "# Calculate Total Income, Total Expenses, Net Savings, and Category-wise Expense Breakdown\n",
        "def generate_financial_insights(finance_data):\n",
        "    # Total Income\n",
        "    total_income = sum(entry['Amount'] for entry in finance_data['income'])\n",
        "\n",
        "    # Total Expenses\n",
        "    total_expenses = sum(entry['Amount'] for entry in finance_data['expense'])\n",
        "\n",
        "    # Net Savings (Income - Expenses)\n",
        "    net_savings = total_income - total_expenses\n",
        "\n",
        "    # Category-wise Expense Breakdown\n",
        "    category_expenses = {}\n",
        "    for entry in finance_data['expense']:\n",
        "        category = entry['Category']\n",
        "        if category not in category_expenses:\n",
        "            category_expenses[category] = 0\n",
        "        category_expenses[category] += entry['Amount']\n",
        "\n",
        "    # Calculate percentage of total expenses for each category\n",
        "    category_percentages = {category: (amount / total_expenses) * 100 for category, amount in category_expenses.items()}\n",
        "\n",
        "    # results\n",
        "    print(\"Financial Summary:\")\n",
        "    print(f\"Total Income: ${total_income:.2f}\")\n",
        "    print(f\"Total Expenses: ${total_expenses:.2f}\")\n",
        "    print(f\"Net Savings: ${net_savings:.2f}\")\n",
        "    print(\"\\nCategory-wise Expense Breakdown:\")\n",
        "    for category, percentage in category_percentages.items():\n",
        "        print(f\"{category}: {percentage:.2f}% of total expenses\")\n",
        "\n",
        "generate_financial_insights(finance_data)"
      ],
      "metadata": {
        "colab": {
          "base_uri": "https://localhost:8080/"
        },
        "id": "m8S-D_DJZzOu",
        "outputId": "4147fbb3-e378-4c21-8f84-3dbda8a1c233"
      },
      "execution_count": 5,
      "outputs": [
        {
          "output_type": "stream",
          "name": "stdout",
          "text": [
            "Financial Summary:\n",
            "Total Income: $3800.00\n",
            "Total Expenses: $425.00\n",
            "Net Savings: $3375.00\n",
            "\n",
            "Category-wise Expense Breakdown:\n",
            "Food: 47.06% of total expenses\n",
            "Transport: 11.76% of total expenses\n",
            "Utilities: 23.53% of total expenses\n",
            "Entertainment: 17.65% of total expenses\n"
          ]
        }
      ]
    },
    {
      "cell_type": "code",
      "source": [
        "# Predefined spending limits\n",
        "category_budgets = {\n",
        "    \"Food\": 300.00,\n",
        "    \"Transport\": 100.00,\n",
        "    \"Utilities\": 150.00,\n",
        "    \"Entertainment\": 200.00\n",
        "}\n",
        "\n",
        "# Function to track budget and notify user when exceeding limits\n",
        "def budget_planning(finance_data, category_budgets):\n",
        "    # Calculate total spending per category\n",
        "    category_spending = {}\n",
        "    for entry in finance_data[\"expense\"]:\n",
        "        category = entry[\"Category\"]\n",
        "        if category not in category_spending:\n",
        "            category_spending[category] = 0\n",
        "        category_spending[category] += entry[\"Amount\"]\n",
        "\n",
        "    # Compare spending with budget and notify if exceeded\n",
        "    for category, budget in category_budgets.items():\n",
        "        actual_spending = category_spending.get(category, 0)\n",
        "        if actual_spending > budget:\n",
        "            print(f\"Warning: You have exceeded your budget for {category}!\")\n",
        "            print(f\"  Budget: ${budget:.2f}, Actual: ${actual_spending:.2f}\")\n",
        "        else:\n",
        "            print(f\"{category} is within budget.\")\n",
        "            print(f\"  Budget: ${budget:.2f}, Actual: ${actual_spending:.2f}\")\n",
        "\n",
        "budget_planning(finance_data, category_budgets)"
      ],
      "metadata": {
        "colab": {
          "base_uri": "https://localhost:8080/"
        },
        "id": "tlKQ2IG7aTfE",
        "outputId": "591e15c8-3986-4963-81ab-7fc4307f4461"
      },
      "execution_count": 6,
      "outputs": [
        {
          "output_type": "stream",
          "name": "stdout",
          "text": [
            "Food is within budget.\n",
            "  Budget: $300.00, Actual: $200.00\n",
            "Transport is within budget.\n",
            "  Budget: $100.00, Actual: $50.00\n",
            "Utilities is within budget.\n",
            "  Budget: $150.00, Actual: $100.00\n",
            "Entertainment is within budget.\n",
            "  Budget: $200.00, Actual: $75.00\n"
          ]
        }
      ]
    },
    {
      "cell_type": "code",
      "source": [
        "import matplotlib.pyplot as plt\n",
        "\n",
        "# Predefined spending limits\n",
        "category_budgets = {\n",
        "    \"Food\": 300.00,\n",
        "    \"Transport\": 100.00,\n",
        "    \"Utilities\": 150.00,\n",
        "    \"Entertainment\": 200.00\n",
        "}\n",
        "\n",
        "# Calculate total spending per category from finance_data\n",
        "category_spending = {\n",
        "    \"Food\": 200.00,\n",
        "    \"Transport\": 50.00,\n",
        "    \"Utilities\": 100.00,\n",
        "    \"Entertainment\": 75.00\n",
        "}\n",
        "\n",
        "# Create lists for categories, budgets, and actual spending\n",
        "categories = list(category_budgets.keys())\n",
        "budgets = list(category_budgets.values())\n",
        "actual_spending = [category_spending.get(category, 0) for category in categories]\n",
        "\n",
        "# Create the bar chart\n",
        "fig, ax = plt.subplots(figsize=(10, 6))\n",
        "bar_width = 0.35\n",
        "index = range(len(categories))\n",
        "\n",
        "# Plot the bars for Budget and Actual Spending\n",
        "bar1 = ax.bar(index, budgets, bar_width, label='Budget', color='black')\n",
        "bar2 = ax.bar([i + bar_width for i in index], actual_spending, bar_width, label='Actual Spending', color='green')\n",
        "\n",
        "# Adding labels and title\n",
        "ax.set_xlabel('Categories')\n",
        "ax.set_ylabel('Amount ($)')\n",
        "ax.set_title('Budget vs Actual Spending')\n",
        "ax.set_xticks([i + bar_width / 2 for i in index])\n",
        "ax.set_xticklabels(categories)\n",
        "ax.legend()\n",
        "\n",
        "plt.tight_layout()\n",
        "plt.show()"
      ],
      "metadata": {
        "colab": {
          "base_uri": "https://localhost:8080/",
          "height": 578
        },
        "id": "D4j7mFV4aioV",
        "outputId": "2676a316-3425-456b-8d35-6e35582f48d2"
      },
      "execution_count": 7,
      "outputs": [
        {
          "output_type": "display_data",
          "data": {
            "text/plain": [
              "<Figure size 1000x600 with 1 Axes>"
            ],
            "image/png": "[encoded data removed]"
          },
          "metadata": {}
        }
      ]
    },
    {
      "cell_type": "code",
      "source": [
        "from datetime import datetime\n",
        "\n",
        "# Savings Goal Information\n",
        "savings_goal = {\n",
        "    \"Goal Amount\": 5000.00,         # The target savings amount\n",
        "    \"Deadline\": datetime(2025, 12, 31),  # The target date for savings goal\n",
        "    \"Current Savings\": 1500.00       # The current amount saved\n",
        "}\n",
        "\n",
        "# Function to track savings progress and provide motivational messages\n",
        "def track_savings_progress(savings_goal):\n",
        "    # Calculate the remaining amount to save\n",
        "    remaining_savings = savings_goal[\"Goal Amount\"] - savings_goal[\"Current Savings\"]\n",
        "\n",
        "    # Calculate time remaining\n",
        "    time_remaining = savings_goal[\"Deadline\"] - datetime.now()\n",
        "\n",
        "    # Provide a motivational message based on progress\n",
        "    if remaining_savings <= 0:\n",
        "        print(f\"Congratulations! You've reached your savings goal of ${savings_goal['Goal Amount']:.2f}.\")\n",
        "    else:\n",
        "        print(f\"You're making progress! You still need to save ${remaining_savings:.2f} to reach your goal of ${savings_goal['Goal Amount']:.2f}.\")\n",
        "\n",
        "    # Time left in days\n",
        "    if time_remaining.days > 0:\n",
        "        print(f\"Time remaining: {time_remaining.days} days to achieve your goal!\")\n",
        "    else:\n",
        "        print(f\"The deadline has passed! Don't worry, keep saving for next time!\")\n",
        "\n",
        "track_savings_progress(savings_goal)"
      ],
      "metadata": {
        "colab": {
          "base_uri": "https://localhost:8080/"
        },
        "id": "WBGSsGLWalhS",
        "outputId": "ecb6b954-d114-4cd1-d2f6-24f956981de9"
      },
      "execution_count": 8,
      "outputs": [
        {
          "output_type": "stream",
          "name": "stdout",
          "text": [
            "You're making progress! You still need to save $3500.00 to reach your goal of $5000.00.\n",
            "Time remaining: 340 days to achieve your goal!\n"
          ]
        }
      ]
    },
    {
      "cell_type": "code",
      "source": [
        "import json\n",
        "\n",
        "# data for finance tracking\n",
        "finance_data = {\n",
        "    \"income\": [\n",
        "        {\"Date\": \"2025-01-20\", \"Source\": \"Salary\", \"Amount\": 2500.00},\n",
        "        {\"Date\": \"2025-01-22\", \"Source\": \"Freelancing\", \"Amount\": 800.00},\n",
        "        {\"Date\": \"2025-01-23\", \"Source\": \"Investments\", \"Amount\": 500.00},\n",
        "    ],\n",
        "    \"expense\": [\n",
        "        {\"Date\": \"2025-01-24\", \"Category\": \"Food\", \"Amount\": 200.00},\n",
        "        {\"Date\": \"2025-01-25\", \"Category\": \"Transport\", \"Amount\": 50.00},\n",
        "        {\"Date\": \"2025-01-26\", \"Category\": \"Utilities\", \"Amount\": 100.00},\n",
        "        {\"Date\": \"2025-01-27\", \"Category\": \"Entertainment\", \"Amount\": 75.00},\n",
        "    ]\n",
        "}\n",
        "\n",
        "category_budgets = {\n",
        "    \"Food\": 300.00,\n",
        "    \"Transport\": 100.00,\n",
        "    \"Utilities\": 150.00,\n",
        "    \"Entertainment\": 200.00\n",
        "}\n",
        "\n",
        "savings_goal = {\n",
        "    \"Goal Amount\": 5000.00,\n",
        "    \"Deadline\": \"2025-12-31\",\n",
        "    \"Current Savings\": 1500.00\n",
        "}\n",
        "\n",
        "# Functions for each menu option\n",
        "def add_income_or_expense():\n",
        "    print(\"Enter '1' to add income or '2' to add expense:\")\n",
        "    choice = input()\n",
        "    if choice == '1':  # Add income\n",
        "        source = input(\"Enter source of income (e.g., Salary, Freelancing): \")\n",
        "        amount = float(input(\"Enter amount: \"))\n",
        "        date = input(\"Enter date (YYYY-MM-DD): \")\n",
        "        finance_data[\"income\"].append({\"Date\": date, \"Source\": source, \"Amount\": amount})\n",
        "        print(\"Income added successfully.\")\n",
        "    elif choice == '2':  # Add expense\n",
        "        category = input(\"Enter expense category (e.g., Food, Transport): \")\n",
        "        amount = float(input(\"Enter amount: \"))\n",
        "        date = input(\"Enter date (YYYY-MM-DD): \")\n",
        "        finance_data[\"expense\"].append({\"Date\": date, \"Category\": category, \"Amount\": amount})\n",
        "        print(\"Expense added successfully.\")\n",
        "\n",
        "def view_summaries_and_insights():\n",
        "    print(\"\\nGenerating financial insights...\\n\")\n",
        "    generate_financial_insights(finance_data)\n",
        "\n",
        "def update_budget_limits_and_savings_goals():\n",
        "    print(\"\\nUpdate budget limits and savings goals:\")\n",
        "\n",
        "    # Update budget limits\n",
        "    print(\"Current budget limits:\")\n",
        "    for category, limit in category_budgets.items():\n",
        "        print(f\"{category}: ${limit:.2f}\")\n",
        "    print(\"Enter the category to update the budget limit (or type 'done' to finish):\")\n",
        "    category_to_update = input()\n",
        "    while category_to_update != 'done':\n",
        "        if category_to_update in category_budgets:\n",
        "            new_limit = float(input(f\"Enter new budget limit for {category_to_update}: \"))\n",
        "            category_budgets[category_to_update] = new_limit\n",
        "            print(f\"{category_to_update} budget updated to ${new_limit:.2f}\")\n",
        "        else:\n",
        "            print(f\"Category {category_to_update} not found.\")\n",
        "        print(\"Enter another category or 'done' to finish:\")\n",
        "        category_to_update = input()\n",
        "\n",
        "    # Update savings goals\n",
        "    print(\"Current savings goal:\")\n",
        "    print(f\"Goal Amount: ${savings_goal['Goal Amount']:.2f}, Current Savings: ${savings_goal['Current Savings']:.2f}, Deadline: {savings_goal['Deadline']}\")\n",
        "    print(\"Would you like to update the savings goal? (yes/no):\")\n",
        "    if input().lower() == 'yes':\n",
        "        savings_goal[\"Goal Amount\"] = float(input(\"Enter new savings goal amount: \"))\n",
        "        savings_goal[\"Deadline\"] = input(\"Enter new deadline (YYYY-MM-DD): \")\n",
        "        savings_goal[\"Current Savings\"] = float(input(\"Enter current savings amount: \"))\n",
        "        print(\"Savings goal updated successfully.\")\n",
        "\n",
        "# Menu system\n",
        "def menu():\n",
        "    while True:\n",
        "        print(\"\\n--- Personal Finance Analyzer ---\")\n",
        "        print(\"1. Add Income or Expense\")\n",
        "        print(\"2. View Summaries and Insights\")\n",
        "        print(\"3. Update Budget Limits and Savings Goals\")\n",
        "        print(\"4. Exit\")\n",
        "\n",
        "        choice = input(\"Select an option: \")\n",
        "\n",
        "        if choice == '1':\n",
        "            add_income_or_expense()\n",
        "        elif choice == '2':\n",
        "            view_summaries_and_insights()\n",
        "        elif choice == '3':\n",
        "            update_budget_limits_and_savings_goals()\n",
        "        elif choice == '4':\n",
        "            print(\"Exiting the program. Goodbye!\")\n",
        "            break\n",
        "        else:\n",
        "            print(\"Invalid choice. Please try again.\")\n",
        "\n",
        "menu()"
      ],
      "metadata": {
        "colab": {
          "base_uri": "https://localhost:8080/"
        },
        "id": "eM1cy4ouavMj",
        "outputId": "923e9906-cb48-4df3-8e30-de2ce6a18405"
      },
      "execution_count": 9,
      "outputs": [
        {
          "output_type": "stream",
          "name": "stdout",
          "text": [
            "\n",
            "--- Personal Finance Analyzer ---\n",
            "1. Add Income or Expense\n",
            "2. View Summaries and Insights\n",
            "3. Update Budget Limits and Savings Goals\n",
            "4. Exit\n",
            "Select an option: 4\n",
            "Exiting the program. Goodbye!\n"
          ]
        }
      ]
    }
  ]
}